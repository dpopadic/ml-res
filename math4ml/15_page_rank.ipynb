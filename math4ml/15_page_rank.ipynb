{
 "cells": [
  {
   "cell_type": "markdown",
   "metadata": {},
   "source": [
    "Page Rank Algorithm"
   ]
  },
  {
   "cell_type": "code",
   "execution_count": null,
   "metadata": {
    "collapsed": true
   },
   "outputs": [],
   "source": [
    "import numpy as np\n",
    "import numpy.linalg as la\n",
    "\n",
    "\n",
    "def pageRank(linkMatrix, d) :\n",
    "    n = linkMatrix.shape[0]\n",
    "    # damping mechanism for procrastinating elements (to combat self-referencing)\n",
    "    M = d * linkMatrix + (1-d)/n * np.ones([n, n])\n",
    "    # assuming 100 agents clicking on a single website at a time\n",
    "    r = 100 * np.ones(n) / n\n",
    "    lastR = r\n",
    "    r = M @ r\n",
    "    while la.norm(lastR - r) > 0.01:\n",
    "        lastR = r\n",
    "        r = M @ r\n",
    "    return r"
   ]
  },
  {
   "cell_type": "markdown",
   "metadata": {},
   "source": []
  },
  {
   "cell_type": "code",
   "execution_count": null,
   "metadata": {},
   "outputs": [],
   "source": [
    "L2 = np.array([[0.5,  0,  0,  0,  0.2],\n",
    "               [0,  0,  0,  0.5,  0.2],\n",
    "               [0,  1,  0,  0.5,  0.2],\n",
    "               [0.5,  0,  0,  0,  0.2],\n",
    "               [0,  0,  1,  0,  0.2]])\n",
    "\n",
    "pageRank(L2, 1)\n"
   ]
  }
 ],
 "metadata": {
  "kernelspec": {
   "display_name": "Python 2",
   "language": "python",
   "name": "python2"
  },
  "language_info": {
   "codemirror_mode": {
    "name": "ipython",
    "version": 2
   },
   "file_extension": ".py",
   "mimetype": "text/x-python",
   "name": "python",
   "nbconvert_exporter": "python",
   "pygments_lexer": "ipython2",
   "version": "2.7.6"
  }
 },
 "nbformat": 4,
 "nbformat_minor": 0
}
