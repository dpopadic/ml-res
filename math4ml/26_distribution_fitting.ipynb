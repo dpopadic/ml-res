{
 "cells": [
  {
   "cell_type": "markdown",
   "metadata": {
    "collapsed": true
   },
   "source": [
    "## Background\n",
    "If we have data for the heights of people in a population, it can be plotted as a histogram. We can look to model that data with a function, such as a Gaussian, which we can specify with two parameters, rather than holding all the data in the histogram.\n",
    "\n",
    "The Gaussian function is given as,\n",
    "$$f(\\mathbf{x};\\mu, \\sigma) = \\frac{1}{\\sigma\\sqrt{2\\pi}}\\exp\\left(-\\frac{(\\mathbf{x} - \\mu)^2}{2\\sigma^2}\\right)$$\n",
    "\n",
    "$\\chi^2$ is the squared difference of the data and the model, i.e $\\chi^2 = |\\mathbf{y} - f(\\mathbf{x};\\mu, \\sigma)|^2$. This is represented in the figure as the sum of the squares of the pink and orange bars.\n",
    "\n",
    "To improve the fit, we will want to alter the parameters $\\mu$ and $\\sigma$, and ask how that changes the $\\chi^2$. That is, we will need to calculate the Jacobian,\n",
    "$$ \\mathbf{J} = \\left[ \\frac{\\partial ( \\chi^2 ) }{\\partial \\mu} , \\frac{\\partial ( \\chi^2 ) }{\\partial \\sigma} \\right]\\;. $$\n",
    "\n",
    "Let's look at the first term, $\\frac{\\partial ( \\chi^2 ) }{\\partial \\mu}$, using the multi-variate chain rule, this can be written as,\n",
    "$$ \\frac{\\partial ( \\chi^2 ) }{\\partial \\mu} = -2 (\\mathbf{y} - f(\\mathbf{x};\\mu, \\sigma)) \\cdot \\frac{\\partial f}{\\partial \\mu}(\\mathbf{x};\\mu, \\sigma)$$\n",
    "\n",
    "$$ \\frac{\\partial ( \\chi^2 ) }{\\partial \\sigma} = -2 (\\mathbf{y} - f(\\mathbf{x};\\mu, \\sigma)) \\cdot \\frac{\\partial f}{\\partial \\sigma}(\\mathbf{x};\\mu, \\sigma)$$\n"
   ]
  },
  {
   "cell_type": "code",
   "execution_count": null,
   "metadata": {},
   "outputs": [],
   "source": [
    "import matplotlib.pyplot as plt\n",
    "import numpy as np\n",
    "from mfml.resources.data import x_heights, y_heights"
   ]
  },
  {
   "cell_type": "code",
   "execution_count": null,
   "metadata": {},
   "outputs": [],
   "source": [
    "# Gaussian function.\n",
    "def gaussian(x, mu, sig) :\n",
    "    return np.exp(-(x - mu)**2 / (2 * sig**2)) / np.sqrt(2 * np.pi) / sig\n",
    "# derivative wrt mu\n",
    "def dfdmu (x, mu, sig) :\n",
    "    return gaussian(x, mu, sig) * (x - mu) / sig**2\n",
    "# derivative wrt sigma\n",
    "def dfdsig (x, mu, sig) :\n",
    "    return gaussian(x, mu, sig) * (((x - mu)**2) / sig**3 - 1 / sig)"
   ]
  },
  {
   "cell_type": "markdown",
   "metadata": {},
   "source": [
    "Steepest descent moves around in parameter space proportional to the negative of the Jacobian,\n",
    "i.e., $\\begin{bmatrix} \\delta\\mu \\\\ \\delta\\sigma \\end{bmatrix} \\propto -\\mathbf{J} $, with the constant of proportionality being the *aggression* of the algorithm."
   ]
  },
  {
   "cell_type": "code",
   "execution_count": null,
   "metadata": {},
   "outputs": [],
   "source": [
    "def steepest_step (x, y, mu, sig, aggression) :\n",
    "    J = np.array([\n",
    "        -2*(y - gaussian(x,mu,sig)) @ dfdmu(x,mu,sig),\n",
    "        -2*(y - gaussian(x,mu,sig)) @ dfdsig(x,mu,sig)\n",
    "    ])\n",
    "    step = -J * aggression\n",
    "    return step"
   ]
  },
  {
   "cell_type": "code",
   "execution_count": null,
   "metadata": {},
   "outputs": [],
   "source": [
    "# trial parameters\n",
    "mu = 155\n",
    "sig = 6\n",
    "p = np.array([[mu, sig]])\n",
    "# doing a few rounds of steepest descent\n",
    "for i in range(50):\n",
    "    dmu, dsig = steepest_step(x_heights, y_heights, mu, sig, 2000)\n",
    "    mu += dmu\n",
    "    sig += dsig\n",
    "    p = np.append(p, [[mu,sig]], axis=0)"
   ]
  },
  {
   "cell_type": "markdown",
   "metadata": {},
   "source": []
  }
 ],
 "metadata": {
  "kernelspec": {
   "display_name": "Python 2",
   "language": "python",
   "name": "python2"
  },
  "language_info": {
   "codemirror_mode": {
    "name": "ipython",
    "version": 2
   },
   "file_extension": ".py",
   "mimetype": "text/x-python",
   "name": "python",
   "nbconvert_exporter": "python",
   "pygments_lexer": "ipython2",
   "version": "2.7.6"
  }
 },
 "nbformat": 4,
 "nbformat_minor": 0
}
