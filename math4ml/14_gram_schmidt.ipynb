{
 "cells": [
  {
   "cell_type": "markdown",
   "metadata": {},
   "source": []
  },
  {
   "cell_type": "code",
   "execution_count": null,
   "metadata": {
    "collapsed": true
   },
   "outputs": [],
   "source": [
    "import numpy as np\n",
    "import numpy.linalg as la\n",
    "\n",
    "\n",
    "def gram_schmidt_process(x):\n",
    "    B = np.array(x, dtype=np.float_)\n",
    "    for i in range(B.shape[1]):\n",
    "        for j in range(i):\n",
    "            # note: @ is dot-product\n",
    "            B[:, i] = B[:, i] - B[:, i] @ B[:, j] * B[:, j]\n",
    "        if la.norm(B[:, i]) > 1e-10:\n",
    "            B[:, i] = B[:, i] / la.norm(B[:, i])\n",
    "        else:\n",
    "            B[:, i] = np.zeros_like(B[:, i])\n",
    "    return B\n",
    "\n",
    "\n",
    "def reflect_matrix(x):\n",
    "    e = gram_schmidt_process(x=x)\n",
    "    te = np.identity(x.shape[1])\n",
    "    # mirror operates by negating the last component of a matrix\n",
    "    te[-1, -1] = -1\n",
    "    # transformation matrix\n",
    "    t = e @ te @ la.inv(e)\n",
    "    return t"
   ]
  },
  {
   "cell_type": "code",
   "execution_count": null,
   "metadata": {},
   "outputs": [],
   "source": [
    "### Reflecting an object (i.e. picture) use case"
   ]
  },
  {
   "cell_type": "code",
   "execution_count": null,
   "metadata": {},
   "outputs": [],
   "source": [
    "# use case: reflecting an object (i.e. picture)\n",
    "# - calculate orthonormal basis of a matrix\n",
    "m = np.array([[1, 0, 2, 6],\n",
    "              [0, 1, 8, 2],\n",
    "              [2, 8, 3, 1],\n",
    "              [1, -6, 2, 3]], dtype=np.float_)\n",
    "m_orthonormal = gram_schmidt_process(x=m)\n",
    "# - calculate transformation matrix of a reflection of matrix m\n",
    "T = reflect_matrix(x=m)"
   ]
  }
 ],
 "metadata": {
  "kernelspec": {
   "display_name": "Python 2",
   "language": "python",
   "name": "python2"
  },
  "language_info": {
   "codemirror_mode": {
    "name": "ipython",
    "version": 2
   },
   "file_extension": ".py",
   "mimetype": "text/x-python",
   "name": "python",
   "nbconvert_exporter": "python",
   "pygments_lexer": "ipython2",
   "version": "2.7.6"
  }
 },
 "nbformat": 4,
 "nbformat_minor": 0
}
