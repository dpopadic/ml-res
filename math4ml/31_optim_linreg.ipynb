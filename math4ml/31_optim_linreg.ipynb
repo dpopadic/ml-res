{
 "cells": [
  {
   "cell_type": "code",
   "execution_count": null,
   "metadata": {
    "collapsed": true
   },
   "outputs": [],
   "source": [
    "import numpy as np\n",
    "from scipy import stats\n",
    "import time\n",
    "\n",
    "def linfit(x, y):\n",
    "  xh = np.sum(x)/len(x)\n",
    "  yh = np.sum(y)/len(y)\n",
    "  m = np.sum((x - xh) * y) / np.sum((x - xh)**2)\n",
    "  c = yh - m * xh\n",
    "  return [m, c]\n",
    "\n",
    "x = np.array([0.4, 0.5, 0.6, 0.7, 0.8])\n",
    "y = np.array([0.1, 0.25, 0.55, 0.75, 0.85])\n",
    "\n",
    "%time re_1 = linfit(x=x, y=y)\n",
    "%time re_2 = stats.linregress(x=x, y=y)"
   ]
  }
 ],
 "metadata": {
  "kernelspec": {
   "display_name": "Python 2",
   "language": "python",
   "name": "python2"
  },
  "language_info": {
   "codemirror_mode": {
    "name": "ipython",
    "version": 2
   },
   "file_extension": ".py",
   "mimetype": "text/x-python",
   "name": "python",
   "nbconvert_exporter": "python",
   "pygments_lexer": "ipython2",
   "version": "2.7.6"
  }
 },
 "nbformat": 4,
 "nbformat_minor": 0
}
