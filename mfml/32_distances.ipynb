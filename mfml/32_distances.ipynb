{
 "cells": [
  {
   "cell_type": "markdown",
   "metadata": {},
   "source": [
    "# Distances and Angles between Images\n",
    "\n",
    "We are going to compute distances and angles between images."
   ]
  },
  {
   "cell_type": "code",
   "execution_count": null,
   "metadata": {
    "collapsed": true
   },
   "outputs": [],
   "source": [
    "import matplotlib as mpl\n",
    "import matplotlib.pyplot as plt\n",
    "import numpy as np\n",
    "import scipy\n",
    "import sklearn\n",
    "from ipywidgets import interact\n",
    "from mfml.resources.data import load_mnist"
   ]
  },
  {
   "cell_type": "markdown",
   "metadata": {},
   "source": [
    "\"distance\" and \"angle\" are useful beyond their usual interpretation. They are useful for describing __similarity__ between objects. "
   ]
  },
  {
   "cell_type": "code",
   "execution_count": null,
   "metadata": {},
   "outputs": [],
   "source": [
    "MNIST = load_mnist()\n",
    "images = MNIST['data'].astype(np.double)\n",
    "labels = MNIST['target'].astype(np.int)"
   ]
  },
  {
   "cell_type": "code",
   "execution_count": null,
   "metadata": {},
   "outputs": [],
   "source": [
    "# Plot figures so that they can be shown in the notebook\n",
    "%matplotlib inline\n",
    "%config InlineBackend.figure_format = 'svg'"
   ]
  },
  {
   "cell_type": "code",
   "execution_count": null,
   "metadata": {},
   "outputs": [],
   "source": [
    "def distance(x0, x1):\n",
    "    \"\"\"Compute distance between two vectors x0, x1 using the dot product.\n",
    "    \n",
    "    Args:\n",
    "    x0, x1: ndarray of shape (D,) to compute distance between. \n",
    "    \n",
    "    Returns:\n",
    "    the distance between the x0 and x1.\n",
    "    \"\"\"\n",
    "    distance = np.dot(x0-x1, x0-x1)**0.5\n",
    "    return distance\n",
    "\n",
    "def angle(x0, x1):\n",
    "    \"\"\"Compute the angle between two vectors x0, x1 using the dot product.\n",
    "    \n",
    "    Args:\n",
    "    x0, x1: ndarray of shape (D,) to compute the angle between. \n",
    "    \n",
    "    Returns:\n",
    "    the angle between the x0 and x1.\n",
    "    \"\"\"\n",
    "    angle = np.arccos((np.dot(x0, x1)/(np.dot(x0, x0)*np.dot(x1, x1))**(0.5)))\n",
    "    return angle"
   ]
  },
  {
   "cell_type": "code",
   "execution_count": null,
   "metadata": {},
   "outputs": [],
   "source": [
    "# checks\n",
    "# -- distance\n",
    "a = np.array([1, 0])\n",
    "b = np.array([0, 1])\n",
    "np.testing.assert_allclose(distance(a, b), np.sqrt(2), rtol=1e-7)\n",
    "\n",
    "a = np.array([1, 0])\n",
    "b = np.array([1., np.sqrt(3)])\n",
    "np.testing.assert_allclose(distance(a, b), np.sqrt(3), rtol=1e-7)\n",
    "\n",
    "# -- angle\n",
    "a = np.array([1, 0])\n",
    "b = np.array([0, 1])\n",
    "np.testing.assert_allclose(angle(a, b) / (np.pi * 2) * 360., 90)\n",
    "\n",
    "a = np.array([1, 0])\n",
    "b = np.array([1., np.sqrt(3)])\n",
    "np.testing.assert_allclose(angle(a, b) / (np.pi * 2) * 360., 60., rtol=1e-4)"
   ]
  },
  {
   "cell_type": "code",
   "execution_count": null,
   "metadata": {},
   "outputs": [],
   "source": [
    "def plot_vector(v, w):\n",
    "    \"\"\"Plot two 2D vectors.\"\"\"\n",
    "    fig = plt.figure(figsize=(4,4))\n",
    "    ax = fig.gca()\n",
    "    plt.xlim([-2, 2])\n",
    "    plt.ylim([-2, 2])\n",
    "    plt.grid()\n",
    "    ax.arrow(0, 0, v[0], v[1], head_width=0.05, head_length=0.1, \n",
    "             length_includes_head=True, linewidth=2, color='r');\n",
    "    ax.arrow(0, 0, w[0], w[1], head_width=0.05, head_length=0.1, \n",
    "             length_includes_head=True, linewidth=2, color='r');"
   ]
  },
  {
   "cell_type": "code",
   "execution_count": null,
   "metadata": {},
   "outputs": [],
   "source": [
    "a = np.array([1, 0])\n",
    "b = np.array([0, 1])\n",
    "plot_vector(b, a)"
   ]
  },
  {
   "cell_type": "code",
   "execution_count": null,
   "metadata": {},
   "outputs": [],
   "source": [
    "# Tests symmetry\n",
    "random = np.random.RandomState(42)\n",
    "x = random.randn(3)\n",
    "y = random.randn(3)\n",
    "for _ in range(10):\n",
    "    np.testing.assert_allclose(distance(x,y), distance(y,x))\n",
    "    np.testing.assert_allclose(angle(x,y), angle(y,x), rtol=1e-4)"
   ]
  },
  {
   "cell_type": "code",
   "execution_count": null,
   "metadata": {},
   "outputs": [],
   "source": [
    "# show some digits from dataset\n",
    "plt.imshow(images[labels == 0].reshape(-1, 28, 28)[0], cmap='gray');"
   ]
  },
  {
   "cell_type": "markdown",
   "metadata": {},
   "source": [
    "But we have the following questions:\n",
    "\n",
    "1. What does it mean for two digits in the MNIST dataset to be _different_ by our distance function? \n",
    "2. Furthermore, how are different classes of digits different for MNIST digits? Let's find out!"
   ]
  },
  {
   "cell_type": "code",
   "execution_count": null,
   "metadata": {},
   "outputs": [],
   "source": [
    "# Q1: compute pairwise distances between images\n",
    "distances = []\n",
    "for i in range(len(images[:500])):\n",
    "    for j in range(len(images[:500])):\n",
    "        distances.append(distance(images[i], images[j]))"
   ]
  },
  {
   "cell_type": "code",
   "execution_count": null,
   "metadata": {},
   "outputs": [],
   "source": [
    "@interact(first=(0, 499), second=(0, 499), continuous_update=False)\n",
    "def show_img(first, second):\n",
    "    plt.figure(figsize=(8,4))\n",
    "    f = images[first].reshape(28, 28)\n",
    "    s = images[second].reshape(28, 28)\n",
    "    \n",
    "    ax0 = plt.subplot2grid((2, 2), (0, 0))\n",
    "    ax1 = plt.subplot2grid((2, 2), (1, 0))\n",
    "    ax2 = plt.subplot2grid((2, 2), (0, 1), rowspan=2)\n",
    "    \n",
    "    ax0.imshow(f, cmap='gray')\n",
    "    ax1.imshow(s, cmap='gray')\n",
    "    ax2.hist(np.array(distances), bins=50)\n",
    "    d = distance(f.ravel(), s.ravel())\n",
    "    ax2.axvline(x=d, ymin=0, ymax=40000, color='C4', linewidth=4)\n",
    "    ax2.text(0, 16000, \"Distance is {:.2f}\".format(d), size=12)\n",
    "    ax2.set(xlabel='distance', ylabel='number of images')\n",
    "    plt.show()"
   ]
  },
  {
   "cell_type": "code",
   "execution_count": null,
   "metadata": {},
   "outputs": [],
   "source": [
    "# Q2: compute a mean image for each class of image (we compute mean image for digits of 1, 2, ..), \n",
    "# then we compute pairwise distance between them\n",
    "mean_images = {}\n",
    "for n in np.unique(labels):\n",
    "    mean_images[n] = np.mean(images[labels==n], axis=0)"
   ]
  },
  {
   "cell_type": "code",
   "execution_count": null,
   "metadata": {},
   "outputs": [],
   "source": [
    "MD = np.zeros((10, 10))\n",
    "AG = np.zeros((10, 10))\n",
    "for i in mean_images.keys():\n",
    "    for j in mean_images.keys():\n",
    "        MD[i, j] = distance(mean_images[i], mean_images[j])\n",
    "        AG[i, j] = angle(mean_images[i].ravel(), mean_images[j].ravel())"
   ]
  },
  {
   "cell_type": "code",
   "execution_count": null,
   "metadata": {},
   "outputs": [],
   "source": [
    "# visualising the distances\n",
    "fig, ax = plt.subplots()\n",
    "grid = ax.imshow(MD, interpolation='nearest')\n",
    "ax.set(title='Distances between different classes of digits',\n",
    "       xticks=range(10), \n",
    "       xlabel='class of digits',\n",
    "       ylabel='class of digits',\n",
    "       yticks=range(10))\n",
    "fig.colorbar(grid)\n",
    "plt.show()"
   ]
  },
  {
   "cell_type": "code",
   "execution_count": null,
   "metadata": {},
   "outputs": [],
   "source": [
    "# visualising the angles\n",
    "fig, ax = plt.subplots()\n",
    "grid = ax.imshow(AG, interpolation='nearest')\n",
    "ax.set(title='Angles between different classes of digits',\n",
    "       xticks=range(10), \n",
    "       xlabel='class of digits',\n",
    "       ylabel='class of digits',\n",
    "       yticks=range(10))\n",
    "fig.colorbar(grid)\n",
    "plt.show();"
   ]
  },
  {
   "cell_type": "markdown",
   "metadata": {},
   "source": []
  },
  {
   "cell_type": "markdown",
   "metadata": {},
   "source": []
  }
 ],
 "metadata": {
  "kernelspec": {
   "display_name": "Python 2",
   "language": "python",
   "name": "python2"
  },
  "language_info": {
   "codemirror_mode": {
    "name": "ipython",
    "version": 2
   },
   "file_extension": ".py",
   "mimetype": "text/x-python",
   "name": "python",
   "nbconvert_exporter": "python",
   "pygments_lexer": "ipython2",
   "version": "2.7.6"
  }
 },
 "nbformat": 4,
 "nbformat_minor": 0
}
